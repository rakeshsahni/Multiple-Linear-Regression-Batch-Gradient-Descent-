{
 "cells": [
  {
   "cell_type": "code",
   "execution_count": 61,
   "id": "549807b6",
   "metadata": {},
   "outputs": [],
   "source": [
    "import numpy as np\n",
    "import pandas as pd\n",
    "from sklearn.model_selection import train_test_split\n",
    "from sklearn.linear_model import LinearRegression\n",
    "from sklearn.datasets import load_diabetes\n",
    "from sklearn.metrics import r2_score"
   ]
  },
  {
   "cell_type": "code",
   "execution_count": 62,
   "id": "09b9b3ab",
   "metadata": {},
   "outputs": [
    {
     "data": {
      "text/plain": [
       "((442, 10), (442,))"
      ]
     },
     "execution_count": 62,
     "metadata": {},
     "output_type": "execute_result"
    }
   ],
   "source": [
    "X, y = load_diabetes()['data'], load_diabetes()['target']\n",
    "X.shape, y.shape"
   ]
  },
  {
   "cell_type": "code",
   "execution_count": 63,
   "id": "0aa7322b",
   "metadata": {},
   "outputs": [
    {
     "data": {
      "text/plain": [
       "((353, 10), (353,), (89, 10), (89,))"
      ]
     },
     "execution_count": 63,
     "metadata": {},
     "output_type": "execute_result"
    }
   ],
   "source": [
    "X_train, X_test, y_train, y_test = train_test_split(X, y, test_size=0.2, random_state=2)\n",
    "X_train.shape, y_train.shape, X_test.shape, y_test.shape"
   ]
  },
  {
   "cell_type": "code",
   "execution_count": 64,
   "id": "58eb7b43",
   "metadata": {},
   "outputs": [],
   "source": [
    "lr = LinearRegression()"
   ]
  },
  {
   "cell_type": "code",
   "execution_count": 65,
   "id": "050799b9",
   "metadata": {},
   "outputs": [
    {
     "data": {
      "text/plain": [
       "LinearRegression()"
      ]
     },
     "execution_count": 65,
     "metadata": {},
     "output_type": "execute_result"
    }
   ],
   "source": [
    "lr.fit(X_train, y_train)"
   ]
  },
  {
   "cell_type": "code",
   "execution_count": 66,
   "id": "9ccfc622",
   "metadata": {},
   "outputs": [
    {
     "data": {
      "text/plain": [
       "array([  -9.16088483, -205.46225988,  516.68462383,  340.62734108,\n",
       "       -895.54360867,  561.21453306,  153.88478595,  126.73431596,\n",
       "        861.12139955,   52.41982836])"
      ]
     },
     "execution_count": 66,
     "metadata": {},
     "output_type": "execute_result"
    }
   ],
   "source": [
    "lr.coef_"
   ]
  },
  {
   "cell_type": "code",
   "execution_count": 67,
   "id": "584a1558",
   "metadata": {},
   "outputs": [
    {
     "data": {
      "text/plain": [
       "151.88334520854633"
      ]
     },
     "execution_count": 67,
     "metadata": {},
     "output_type": "execute_result"
    }
   ],
   "source": [
    "lr.intercept_"
   ]
  },
  {
   "cell_type": "code",
   "execution_count": 68,
   "id": "89c496af",
   "metadata": {},
   "outputs": [
    {
     "data": {
      "text/plain": [
       "0.4399387660024645"
      ]
     },
     "execution_count": 68,
     "metadata": {},
     "output_type": "execute_result"
    }
   ],
   "source": [
    "y_pred = lr.predict(X_test)\n",
    "r2_score(y_test, y_pred)"
   ]
  },
  {
   "cell_type": "code",
   "execution_count": 69,
   "id": "eb57e880",
   "metadata": {},
   "outputs": [],
   "source": [
    "class Batch_GD : \n",
    "    \n",
    "    def __init__(self, lr = 0.1, epochs = 1000) : \n",
    "        self.coef_ = None\n",
    "        self.intercept_ = None\n",
    "        self.lr = lr\n",
    "        self.epochs = epochs\n",
    "        \n",
    "    \n",
    "    def fit(self, X, Y) : \n",
    "        row, col = X.shape\n",
    "        self.intercept_ = 0\n",
    "        self.coef_ = np.ones(col)\n",
    "        \n",
    "        for epoch in range(self.epochs) : \n",
    "            \n",
    "            y_cap = np.dot(X, self.coef_) + self.intercept_\n",
    "            dL_b = -2 * np.mean(Y - y_cap)\n",
    "            \n",
    "            dL_w = (-2 * ( np.dot( Y - y_cap, X )) )/ row\n",
    "            \n",
    "            self.intercept_ = self.intercept_ - self.lr * dL_b\n",
    "            \n",
    "            self.coef_ = self.coef_ - self.lr * dL_w\n",
    "                    \n",
    "    def predict(self, X) : \n",
    "        return np.dot(X, self.coef_) + self.intercept_"
   ]
  },
  {
   "cell_type": "code",
   "execution_count": 70,
   "id": "732ea941",
   "metadata": {},
   "outputs": [],
   "source": [
    "bgd = Batch_GD(lr = 0.1)"
   ]
  },
  {
   "cell_type": "code",
   "execution_count": 71,
   "id": "6c76569f",
   "metadata": {},
   "outputs": [],
   "source": [
    "bgd.fit(X_train, y_train)"
   ]
  },
  {
   "cell_type": "code",
   "execution_count": 72,
   "id": "c3e6b733",
   "metadata": {},
   "outputs": [
    {
     "data": {
      "text/plain": [
       "array([  62.27814169,  -24.14066729,  262.40222053,  192.20902828,\n",
       "         39.48791536,   10.26869856, -142.5060393 ,  124.33305283,\n",
       "        244.33532841,  119.34321317])"
      ]
     },
     "execution_count": 72,
     "metadata": {},
     "output_type": "execute_result"
    }
   ],
   "source": [
    "bgd.coef_"
   ]
  },
  {
   "cell_type": "code",
   "execution_count": 73,
   "id": "5ab287bc",
   "metadata": {},
   "outputs": [
    {
     "data": {
      "text/plain": [
       "151.94043481425678"
      ]
     },
     "execution_count": 73,
     "metadata": {},
     "output_type": "execute_result"
    }
   ],
   "source": [
    "bgd.intercept_"
   ]
  },
  {
   "cell_type": "code",
   "execution_count": 74,
   "id": "6e659060",
   "metadata": {},
   "outputs": [
    {
     "data": {
      "text/plain": [
       "0.39717004786105714"
      ]
     },
     "execution_count": 74,
     "metadata": {},
     "output_type": "execute_result"
    }
   ],
   "source": [
    "y_bgd_predict = bgd.predict(X_test)\n",
    "r2_score(y_test, y_bgd_predict)"
   ]
  },
  {
   "cell_type": "code",
   "execution_count": null,
   "id": "1a60791d",
   "metadata": {},
   "outputs": [],
   "source": []
  }
 ],
 "metadata": {
  "kernelspec": {
   "display_name": "Python 3 (ipykernel)",
   "language": "python",
   "name": "python3"
  },
  "language_info": {
   "codemirror_mode": {
    "name": "ipython",
    "version": 3
   },
   "file_extension": ".py",
   "mimetype": "text/x-python",
   "name": "python",
   "nbconvert_exporter": "python",
   "pygments_lexer": "ipython3",
   "version": "3.9.7"
  }
 },
 "nbformat": 4,
 "nbformat_minor": 5
}
